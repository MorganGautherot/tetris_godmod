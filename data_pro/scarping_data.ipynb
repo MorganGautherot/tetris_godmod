{
 "cells": [
  {
   "cell_type": "markdown",
   "id": "e4969319",
   "metadata": {},
   "source": [
    "# Importation des packages"
   ]
  },
  {
   "cell_type": "code",
   "execution_count": 2,
   "id": "8c76f44c",
   "metadata": {},
   "outputs": [],
   "source": [
    "import numpy as np\n",
    "import pandas as pd\n",
    "import cv2\n",
    "from imutils import contours\n",
    "import os\n",
    "import matplotlib.pyplot as plt\n",
    "from glob import glob"
   ]
  },
  {
   "cell_type": "markdown",
   "id": "02311d0d",
   "metadata": {},
   "source": [
    "# Transformation vidéo en images"
   ]
  },
  {
   "cell_type": "code",
   "execution_count": 3,
   "id": "1f15b3d6",
   "metadata": {},
   "outputs": [],
   "source": [
    "# Importing all necessary libraries\n",
    "import cv2\n",
    "import os\n",
    "\n",
    "# Read the video from specified path\n",
    "\n",
    "def video_to_images(file_name, \n",
    "                    outpout_folder_name):\n",
    "    cam = cv2.VideoCapture(file_name)\n",
    "    \n",
    "    data = np.array([])\n",
    "\n",
    "    try:\n",
    "        \n",
    "        # creating a folder named data\n",
    "        if not os.path.exists(outpout_folder_name):\n",
    "            os.makedirs(outpout_folder_name)\n",
    "    \n",
    "    # if not created then raise error\n",
    "    except OSError:\n",
    "        print ('Error: Creating directory of data')\n",
    "    \n",
    "    # frame\n",
    "    currentframe = 0\n",
    "    \n",
    "    while(True):\n",
    "        \n",
    "        # reading from frame\n",
    "        ret,frame = cam.read()\n",
    "    \n",
    "        if ret:\n",
    "            # if video is still left continue creating images\n",
    "            name = f'./{outpout_folder_name}/frame' + str(currentframe) + '.jpg'\n",
    "            #print ('Creating...' + name)\n",
    "            data = np.append(data, name)\n",
    "            # writing the extracted images\n",
    "            cv2.imwrite(name, frame)\n",
    "    \n",
    "            # increasing counter so that it will\n",
    "            # show how many frames are created\n",
    "            currentframe += 1\n",
    "        else:\n",
    "            break\n",
    "    \n",
    "    # Release all space and windows once done\n",
    "    cam.release()\n",
    "    cv2.destroyAllWindows()\n",
    "\n",
    "    return data"
   ]
  },
  {
   "cell_type": "markdown",
   "id": "de7b39f4",
   "metadata": {},
   "source": [
    "# Function"
   ]
  },
  {
   "cell_type": "code",
   "execution_count": 4,
   "id": "88a7043c",
   "metadata": {},
   "outputs": [],
   "source": [
    "def transform_image_into_matrix(board_game_image:np.ndarray, threshold_intensity=70, threshold_header=66)->np.ndarray:\n",
    "    \"\"\" \n",
    "    Transform image of tetris into 20x10 matrix\n",
    "\n",
    "    Args:\n",
    "        image(np.ndarray): image of the board game\n",
    "\n",
    "    Returns:\n",
    "        np.ndarray: matrix 20x10 of the board game\n",
    "    \"\"\"\n",
    "\n",
    "    game_board = board_game_image[threshold_header:, :, :]\n",
    "    resize_image = cv2.resize(game_board, (10, 20), interpolation = cv2.INTER_AREA)\n",
    "    resize_image_sum = np.sum(resize_image, axis=-1)\n",
    "    thresh_resize_image = np.where(resize_image_sum>threshold_intensity, 255, 0)\n",
    "\n",
    "    return thresh_resize_image"
   ]
  },
  {
   "cell_type": "code",
   "execution_count": 5,
   "id": "51172483",
   "metadata": {},
   "outputs": [],
   "source": [
    "def transform_next_tetromino_to_matrix(board_game_image:np.ndarray, threshold_intensity=70)->np.ndarray:\n",
    "    \"\"\" \n",
    "    Transform game image of tetris into the next tetromino with a 5x2 matrix\n",
    "\n",
    "    Args:\n",
    "        image(np.ndarray): image of the board game\n",
    "\n",
    "    Returns:\n",
    "        np.ndarray: matrix 5x2 of the next tetromino\n",
    "    \"\"\"\n",
    "\n",
    "    game_board_next_tetromino = board_game_image[:58, 158:, :]\n",
    "  \n",
    "    resize_image = cv2.resize(game_board_next_tetromino, (5, 2), interpolation = cv2.INTER_AREA)\n",
    "\n",
    "    resize_image_sum = np.sum(resize_image, axis=-1)\n",
    "\n",
    "    thresh_resize_image = np.where(resize_image_sum>threshold_intensity, 255, 0)\n",
    "    #plt.imshow(thresh_resize_image)\n",
    "    #plt.show()\n",
    "\n",
    "    return thresh_resize_image"
   ]
  },
  {
   "cell_type": "code",
   "execution_count": 6,
   "id": "aec297ce",
   "metadata": {},
   "outputs": [],
   "source": [
    "def test_transform_next_tetromino_to_matrix():\n",
    "    \"\"\"\n",
    "    Test the function transform_next_tetromino_to_matrix\n",
    "    \"\"\"\n",
    "\n",
    "    path_right_snake = 'data/frame167.jpg'\n",
    "    right_snake_image = cv2.imread(path_right_snake)\n",
    "    next_tetromino_matrix = transform_next_tetromino_to_matrix(right_snake_image)\n",
    "    assert np.array_equal(next_tetromino_matrix, [[0, 0, 255, 255, 0],\n",
    "                                    [0, 255, 255, 0, 0]])\n",
    "    \n",
    "    path_left_snake = 'data/frame289.jpg'\n",
    "    left_snake_image = cv2.imread(path_left_snake)\n",
    "    next_tetromino_matrix = transform_next_tetromino_to_matrix(left_snake_image)\n",
    "    assert np.array_equal(next_tetromino_matrix, [[0, 255, 255, 0, 0],\n",
    "                                    [0, 0, 255, 255, 0]])\n",
    "\n",
    "    path_right_gun = 'data/frame98.jpg' \n",
    "    right_gun_image = cv2.imread(path_right_gun)\n",
    "\n",
    "    next_tetromino_matrix = transform_next_tetromino_to_matrix(right_gun_image)\n",
    "\n",
    "    assert np.array_equal(next_tetromino_matrix, [[0, 255, 255, 255, 0],\n",
    "                                    [0, 255, 0, 0, 0]])\n",
    "\n",
    "    path_left_gun = 'data/frame67.jpg'\n",
    "    left_gun_image = cv2.imread(path_left_gun)\n",
    "\n",
    "    next_tetromino_matrix = transform_next_tetromino_to_matrix(left_gun_image)\n",
    "    assert np.array_equal(next_tetromino_matrix, [[0, 255, 255, 255, 0],\n",
    "                                    [0, 0, 0, 255, 0]])\n",
    "\n",
    "    path_square = 'data/frame347.jpg'\n",
    "    square_image = cv2.imread(path_square)\n",
    "\n",
    "    next_tetromino_matrix = transform_next_tetromino_to_matrix(square_image)\n",
    "    assert np.array_equal(next_tetromino_matrix, [[0, 255, 255, 255, 0],\n",
    "                                    [0, 255, 255, 255, 0]])\n",
    "\n",
    "    path_hat = 'data/frame0.jpg'\n",
    "    hat_image = cv2.imread(path_hat)\n",
    "\n",
    "    next_tetromino_matrix = transform_next_tetromino_to_matrix(hat_image)\n",
    "    assert np.array_equal(next_tetromino_matrix, [[0, 255, 255, 255, 0],\n",
    "                                    [0, 0, 255, 0, 0]])\n",
    "\n",
    "    path_long = 'data/frame35.jpg' \n",
    "    long_image = cv2.imread(path_long)\n",
    "\n",
    "    next_tetromino_matrix = transform_next_tetromino_to_matrix(long_image)\n",
    "    assert np.array_equal(next_tetromino_matrix, [[255, 255, 255, 255, 255],\n",
    "                                    [255, 255, 255, 255, 255]])\n"
   ]
  },
  {
   "cell_type": "code",
   "execution_count": 7,
   "id": "255c8646",
   "metadata": {},
   "outputs": [],
   "source": [
    "def detect_tetromino(tetromino_matrix:np.ndarray)->str:\n",
    "    \"\"\"\n",
    "    Detect tetromino from tetromino matrix 5x2\n",
    "\n",
    "    Args:\n",
    "        tetromino(np.ndarray): matrix 5x2 of the tetromino\n",
    "\n",
    "    Returns:\n",
    "        str: name of the tetromino\n",
    "    \"\"\"\n",
    "\n",
    "    match tetromino_matrix:\n",
    "        case _ if np.array_equal(tetromino_matrix, [[0, 0, 255, 255, 0], [0, 255, 255, 0, 0]]):\n",
    "            return 'right_snake'\n",
    "        case _ if np.array_equal(tetromino_matrix, [[0, 255, 255, 0, 0], [0, 0, 255, 255, 0]]):\n",
    "            return 'left_snake'    \n",
    "        case _ if np.array_equal(tetromino_matrix, [[0, 255, 255, 255, 0], [0, 255, 0, 0, 0]]):\n",
    "            return 'right_gun'    \n",
    "        case _ if np.array_equal(tetromino_matrix, [[0, 255, 255, 255, 0], [0, 0, 0, 255, 0]]):\n",
    "            return 'left_gun'  \n",
    "        case _ if np.array_equal(tetromino_matrix, [[0, 255, 255, 255, 0], [0, 255, 255, 255, 0]]):\n",
    "            return 'square'  \n",
    "        case _ if np.array_equal(tetromino_matrix, [[0, 255, 255, 255, 0], [0, 0, 255, 0, 0]]):\n",
    "            return 'hat'  \n",
    "        case _ if np.array_equal(tetromino_matrix, [[255, 255, 255, 255, 255], [255, 255, 255, 255, 255]]):\n",
    "            return 'long' "
   ]
  },
  {
   "cell_type": "code",
   "execution_count": 8,
   "id": "b17260cf",
   "metadata": {},
   "outputs": [],
   "source": [
    "def test_detect_tetromino():\n",
    "    \"\"\"\n",
    "    Test the function detect_tetromino\n",
    "    \"\"\"\n",
    "\n",
    "    path_right_snake = 'data/frame167.jpg'\n",
    "    right_snake_image = cv2.imread(path_right_snake)\n",
    "    next_tetromino_matrix = transform_next_tetromino_to_matrix(right_snake_image)\n",
    "    tetromino_name = detect_tetromino(next_tetromino_matrix)\n",
    "    assert tetromino_name == \"right_snake\"\n",
    "    \n",
    "    path_left_snake = 'data/frame289.jpg'\n",
    "    left_snake_image = cv2.imread(path_left_snake)\n",
    "    next_tetromino_matrix = transform_next_tetromino_to_matrix(left_snake_image)\n",
    "    tetromino_name = detect_tetromino(next_tetromino_matrix)\n",
    "    assert tetromino_name == \"left_snake\"\n",
    "\n",
    "    path_right_gun = 'data/frame98.jpg' \n",
    "    right_gun_image = cv2.imread(path_right_gun)\n",
    "    next_tetromino_matrix = transform_next_tetromino_to_matrix(right_gun_image)\n",
    "    tetromino_name = detect_tetromino(next_tetromino_matrix)\n",
    "    assert tetromino_name == \"right_gun\"\n",
    "\n",
    "    path_left_gun = 'data/frame67.jpg'\n",
    "    left_gun_image = cv2.imread(path_left_gun)\n",
    "    next_tetromino_matrix = transform_next_tetromino_to_matrix(left_gun_image)\n",
    "    tetromino_name = detect_tetromino(next_tetromino_matrix)\n",
    "    assert tetromino_name == \"left_gun\"\n",
    "\n",
    "    path_square = 'data/frame347.jpg'\n",
    "    square_image = cv2.imread(path_square)\n",
    "    next_tetromino_matrix = transform_next_tetromino_to_matrix(square_image)\n",
    "    tetromino_name = detect_tetromino(next_tetromino_matrix)\n",
    "    assert tetromino_name == \"square\"\n",
    "\n",
    "    path_hat = 'data/frame0.jpg'\n",
    "    hat_image = cv2.imread(path_hat)\n",
    "    next_tetromino_matrix = transform_next_tetromino_to_matrix(hat_image)\n",
    "    tetromino_name = detect_tetromino(next_tetromino_matrix)\n",
    "    assert tetromino_name == \"hat\"\n",
    "\n",
    "    path_long = 'data/frame35.jpg' \n",
    "    long_image = cv2.imread(path_long)\n",
    "    next_tetromino_matrix = transform_next_tetromino_to_matrix(long_image)\n",
    "    tetromino_name = detect_tetromino(next_tetromino_matrix)\n",
    "    assert tetromino_name == \"long\""
   ]
  },
  {
   "cell_type": "code",
   "execution_count": 9,
   "id": "ade7c912",
   "metadata": {},
   "outputs": [
    {
     "ename": "AssertionError",
     "evalue": "",
     "output_type": "error",
     "traceback": [
      "\u001b[1;31m---------------------------------------------------------------------------\u001b[0m",
      "\u001b[1;31mAssertionError\u001b[0m                            Traceback (most recent call last)",
      "Cell \u001b[1;32mIn[9], line 1\u001b[0m\n\u001b[1;32m----> 1\u001b[0m \u001b[43mtest_detect_tetromino\u001b[49m\u001b[43m(\u001b[49m\u001b[43m)\u001b[49m\n",
      "Cell \u001b[1;32mIn[8], line 10\u001b[0m, in \u001b[0;36mtest_detect_tetromino\u001b[1;34m()\u001b[0m\n\u001b[0;32m      8\u001b[0m next_tetromino_matrix \u001b[38;5;241m=\u001b[39m transform_next_tetromino_to_matrix(right_snake_image)\n\u001b[0;32m      9\u001b[0m tetromino_name \u001b[38;5;241m=\u001b[39m detect_tetromino(next_tetromino_matrix)\n\u001b[1;32m---> 10\u001b[0m \u001b[38;5;28;01massert\u001b[39;00m tetromino_name \u001b[38;5;241m==\u001b[39m \u001b[38;5;124m\"\u001b[39m\u001b[38;5;124mright_snake\u001b[39m\u001b[38;5;124m\"\u001b[39m\n\u001b[0;32m     12\u001b[0m path_left_snake \u001b[38;5;241m=\u001b[39m \u001b[38;5;124m'\u001b[39m\u001b[38;5;124mdata/frame289.jpg\u001b[39m\u001b[38;5;124m'\u001b[39m\n\u001b[0;32m     13\u001b[0m left_snake_image \u001b[38;5;241m=\u001b[39m cv2\u001b[38;5;241m.\u001b[39mimread(path_left_snake)\n",
      "\u001b[1;31mAssertionError\u001b[0m: "
     ]
    }
   ],
   "source": [
    "test_detect_tetromino()"
   ]
  },
  {
   "cell_type": "code",
   "execution_count": 10,
   "id": "30746364",
   "metadata": {},
   "outputs": [
    {
     "ename": "NameError",
     "evalue": "name 'data' is not defined",
     "output_type": "error",
     "traceback": [
      "\u001b[1;31m---------------------------------------------------------------------------\u001b[0m",
      "\u001b[1;31mNameError\u001b[0m                                 Traceback (most recent call last)",
      "Cell \u001b[1;32mIn[10], line 3\u001b[0m\n\u001b[0;32m      1\u001b[0m path \u001b[38;5;241m=\u001b[39m\u001b[38;5;124m'\u001b[39m\u001b[38;5;124mdata\u001b[39m\u001b[38;5;124m'\u001b[39m\n\u001b[1;32m----> 3\u001b[0m \u001b[38;5;28;01mfor\u001b[39;00m image \u001b[38;5;129;01min\u001b[39;00m \u001b[43mdata\u001b[49m:\n\u001b[0;32m      4\u001b[0m     x_image \u001b[38;5;241m=\u001b[39m cv2\u001b[38;5;241m.\u001b[39mimread(image)\n\u001b[0;32m      5\u001b[0m     plt\u001b[38;5;241m.\u001b[39mimshow(x_image)\n",
      "\u001b[1;31mNameError\u001b[0m: name 'data' is not defined"
     ]
    }
   ],
   "source": [
    "path ='data'\n",
    "\n",
    "for image in data:\n",
    "    x_image = cv2.imread(image)\n",
    "    plt.imshow(x_image)\n",
    "    plt.show()\n",
    "\n",
    "    game_board_matrix = transform_image_into_matrix(x_image)\n",
    "    plt.imshow(game_board_matrix)\n",
    "    plt.show()   \n",
    "\n",
    "    next_tetromino_matrix = transform_next_tetromino_to_matrix(x_image)\n",
    "    next_tetromino_name = detect_tetromino(next_tetromino_matrix)\n",
    "\n",
    "    print(next_tetromino_name)\n",
    "    \n",
    "    break"
   ]
  },
  {
   "cell_type": "markdown",
   "id": "adb493bb",
   "metadata": {},
   "source": [
    "# Garder que les images intéressantes"
   ]
  },
  {
   "cell_type": "code",
   "execution_count": 11,
   "id": "de4c9f49",
   "metadata": {},
   "outputs": [],
   "source": [
    "def determined_is_tetromino_start(game_board_matrix:np.ndarray)->bool:\n",
    "    '''\n",
    "    is there a tetromino in the beginning part of the board? \n",
    "    '''\n",
    "\n",
    "    return np.any(game_board_matrix[:4, :])\n"
   ]
  },
  {
   "cell_type": "code",
   "execution_count": 12,
   "id": "0f44e75a",
   "metadata": {},
   "outputs": [],
   "source": [
    "def test_determined_is_tetromino_start():\n",
    "    ''' \n",
    "    Test function determined_is_tetromino_start\n",
    "    '''\n",
    "\n",
    "    is_tetromino_path = 'data/frame35.jpg' \n",
    "    is_tetromono = cv2.imread(is_tetromino_path)\n",
    "    game_board_matrix = transform_image_into_matrix(is_tetromono)\n",
    "    assert determined_is_tetromino_start(game_board_matrix) == True\n",
    "\n",
    "\n",
    "    is_no_tetromino_path = 'data/frame53.jpg' \n",
    "    is_no_tetromino = cv2.imread(is_no_tetromino_path)\n",
    "    game_board_matrix = transform_image_into_matrix(is_no_tetromino)\n",
    "    assert determined_is_tetromino_start(game_board_matrix) == False"
   ]
  },
  {
   "cell_type": "code",
   "execution_count": 13,
   "id": "e762e4ab",
   "metadata": {},
   "outputs": [],
   "source": [
    "test_determined_is_tetromino_start()"
   ]
  },
  {
   "cell_type": "code",
   "execution_count": 14,
   "id": "1e05d00c",
   "metadata": {},
   "outputs": [],
   "source": [
    "def determined_is_clean_four_lines(game_board_matrix):\n",
    "\n",
    "\n",
    "    return np.all(game_board_matrix)\n",
    "    \n"
   ]
  },
  {
   "cell_type": "code",
   "execution_count": 15,
   "id": "633dd7ee",
   "metadata": {},
   "outputs": [
    {
     "data": {
      "text/plain": [
       "True"
      ]
     },
     "execution_count": 15,
     "metadata": {},
     "output_type": "execute_result"
    }
   ],
   "source": [
    "is_no_tetromino_path = 'data/frame1787.jpg' \n",
    "is_no_tetromino = cv2.imread(is_no_tetromino_path)\n",
    "game_board_matrix = transform_image_into_matrix(is_no_tetromino)\n",
    "determined_is_clean_four_lines(game_board_matrix)"
   ]
  },
  {
   "cell_type": "code",
   "execution_count": null,
   "id": "63018365",
   "metadata": {},
   "outputs": [],
   "source": [
    "is_no_tetromino_path = 'data/frame635.jpg' \n",
    "is_no_tetromino = cv2.imread(is_no_tetromino_path)\n",
    "last_game_board_matrix = transform_image_into_matrix(is_no_tetromino)\n",
    "\n",
    "is_no_tetromino_path = 'data/frame636.jpg' \n",
    "is_no_tetromino = cv2.imread(is_no_tetromino_path)\n",
    "game_board_matrix = transform_image_into_matrix(is_no_tetromino)\n",
    "\n",
    "\n",
    "print(np.any(last_game_board_matrix-game_board_matrix)>0)"
   ]
  },
  {
   "cell_type": "code",
   "execution_count": 16,
   "id": "83a90a0d",
   "metadata": {},
   "outputs": [],
   "source": [
    "def create_current_tetromino_dataframe(list_image:np.ndarray, threshold_intensity=70, threshold_header=66)->pd.DataFrame:\n",
    "    \"\"\" \n",
    "    Create the dataframe of useable image to create training data.\n",
    "\n",
    "    Args: \n",
    "        list_image(np.array): list of the game board image\n",
    "\n",
    "    Returns:\n",
    "        pd.DataFrame: dataframe of the usable image to create training dataframe\n",
    "    \"\"\"\n",
    "\n",
    "    dataframe = pd.DataFrame([], columns=('image_path', 'x_y', 'id_pair'))\n",
    "\n",
    "    id_pair = 0\n",
    "    is_tetromino_start = True\n",
    "    is_tetromino_start_last_image = False\n",
    "    clear_four_lines = False\n",
    "    for image_path in list_image:\n",
    "        x_image = cv2.imread(image_path)\n",
    "\n",
    "        game_board_matrix = transform_image_into_matrix(x_image, threshold_intensity=threshold_intensity, threshold_header=threshold_header)\n",
    "    \n",
    "        is_clear_four_lines = determined_is_clean_four_lines(game_board_matrix)\n",
    "\n",
    "        if id_pair != 0 :\n",
    "            slow_remove_line = np.any(np.sum(last_game_board_matrix-game_board_matrix)>0)\n",
    "        else :\n",
    "            slow_remove_line = False\n",
    "\n",
    "        if not(is_clear_four_lines) and not(slow_remove_line):\n",
    "\n",
    "            is_tetromino_start = determined_is_tetromino_start(game_board_matrix)\n",
    "\n",
    "            \n",
    "\n",
    "            if is_tetromino_start and is_tetromino_start != is_tetromino_start_last_image:\n",
    "\n",
    "                if id_pair != 0 and not(clear_four_lines):\n",
    "                    dataframe = pd.concat([dataframe, pd.DataFrame([[last_image_path, 'y', id_pair]], columns=('image_path', 'x_y', 'id_pair'))])\n",
    "                else :\n",
    "                    clear_four_lines = False\n",
    "                id_pair += 1\n",
    "                dataframe = pd.concat([dataframe, pd.DataFrame([[image_path, 'x', id_pair]], columns=('image_path', 'x_y', 'id_pair'))])\n",
    "\n",
    "        elif is_clear_four_lines and not(clear_four_lines) :\n",
    "            dataframe = pd.concat([dataframe, pd.DataFrame([[last_image_path, 'y', id_pair]], columns=('image_path', 'x_y', 'id_pair'))])\n",
    "            clear_four_lines = True\n",
    "\n",
    "        elif slow_remove_line and not(clear_four_lines):\n",
    "            dataframe = pd.concat([dataframe, pd.DataFrame([[last_image_path, 'y', id_pair]], columns=('image_path', 'x_y', 'id_pair'))])\n",
    "            clear_four_lines = True\n",
    "\n",
    "\n",
    "        is_tetromino_start_last_image = is_tetromino_start\n",
    "        last_image_path = image_path\n",
    "        last_game_board_matrix = game_board_matrix\n",
    "\n",
    "\n",
    "    dataframe = dataframe.reset_index(drop=True)\n",
    "\n",
    "    if len(np.unique(dataframe.iloc[-2:, -1])) == 2:\n",
    "        dataframe.drop(dataframe.iloc[-1:, :].index, axis=0, inplace=True)\n",
    "\n",
    "    return dataframe"
   ]
  },
  {
   "cell_type": "code",
   "execution_count": null,
   "id": "81d9bc42",
   "metadata": {},
   "outputs": [],
   "source": [
    "dataframe = create_current_tetromino_dataframe(data)"
   ]
  },
  {
   "cell_type": "code",
   "execution_count": null,
   "id": "2fc6469c",
   "metadata": {},
   "outputs": [],
   "source": [
    "np.max(dataframe['id_pair'])"
   ]
  },
  {
   "cell_type": "code",
   "execution_count": 17,
   "id": "026812fc",
   "metadata": {},
   "outputs": [],
   "source": [
    "def get_start_column(matrix_difference):\n",
    "    is_tetromino_column = np.sum(matrix_difference, axis=0)\n",
    "\n",
    "    for id_column in np.arange(10):\n",
    "        if is_tetromino_column[id_column] > 0:\n",
    "            return id_column\n"
   ]
  },
  {
   "cell_type": "code",
   "execution_count": 18,
   "id": "d90f6e4b",
   "metadata": {},
   "outputs": [],
   "source": [
    "def get_tetromino_from_difference(matrix_difference):\n",
    "    # Find the indices where the tetromino starts and ends\n",
    "    start_row, end_row = None, None\n",
    "    start_col, end_col = None, None\n",
    "\n",
    "    for i in range(matrix_difference.shape[0]):\n",
    "        if np.any(matrix_difference[i] != 0):\n",
    "            start_row = i\n",
    "            break\n",
    "\n",
    "    for i in range(matrix_difference.shape[0] - 1, -1, -1):\n",
    "        if np.any(matrix_difference[i] != 0):\n",
    "            end_row = i\n",
    "            break\n",
    "\n",
    "    for j in range(matrix_difference.shape[1]):\n",
    "        if np.any(matrix_difference[:, j] != 0):\n",
    "            start_col = j\n",
    "            break\n",
    "\n",
    "    for j in range(matrix_difference.shape[1] - 1, -1, -1):\n",
    "        if np.any(matrix_difference[:, j] != 0):\n",
    "            end_col = j\n",
    "            break\n",
    "\n",
    "    # Extract the tetromino\n",
    "    tetromino = matrix_difference[start_row:end_row + 1, start_col:end_col + 1]\n",
    "\n",
    "    return tetromino\n"
   ]
  },
  {
   "cell_type": "code",
   "execution_count": 19,
   "id": "6ca66ca3",
   "metadata": {},
   "outputs": [],
   "source": [
    "def get_tetromino_name_and_rotation(current_tetromino_matrix):\n",
    "\n",
    "    match current_tetromino_matrix:\n",
    "        case _ if np.array_equal(current_tetromino_matrix, [[0, 255, 255], \n",
    "                                                            [255, 255, 0]]):\n",
    "            return 'right_snake', 0\n",
    "        case _ if np.array_equal(current_tetromino_matrix, [[255, 0], \n",
    "                                                            [255, 255],\n",
    "                                                            [0, 255]]):\n",
    "            return 'right_snake', 1\n",
    "        \n",
    "\n",
    "        case _ if np.array_equal(current_tetromino_matrix, [[255, 255, 0], \n",
    "                                                            [0, 255, 255]]):\n",
    "            return 'left_snake', 0\n",
    "        case _ if np.array_equal(current_tetromino_matrix, [[0, 255], \n",
    "                                                            [255, 255],\n",
    "                                                            [255, 0]]):\n",
    "            return 'left_snake', 1      \n",
    "        \n",
    "        case _ if np.array_equal(current_tetromino_matrix, [[0, 0, 255], \n",
    "                                                            [255, 255, 255]]):\n",
    "            return 'right_gun', 0\n",
    "        case _ if np.array_equal(current_tetromino_matrix, [[255, 0], \n",
    "                                                            [255, 0],\n",
    "                                                            [255, 255]]):\n",
    "            return 'right_gun', 1\n",
    "        case _ if np.array_equal(current_tetromino_matrix, [[255, 255, 255], \n",
    "                                                            [255, 0, 0]]):\n",
    "            return 'right_gun', 2\n",
    "        case _ if np.array_equal(current_tetromino_matrix, [[255, 255], \n",
    "                                                            [0, 255],\n",
    "                                                            [0, 255]]):\n",
    "            return 'right_gun', 3\n",
    "\n",
    "        case _ if np.array_equal(current_tetromino_matrix, [[255, 0, 0], \n",
    "                                                            [255, 255, 255]]):\n",
    "            return 'left_gun', 0\n",
    "        case _ if np.array_equal(current_tetromino_matrix, [[255, 255], \n",
    "                                                            [255, 0],\n",
    "                                                            [255, 0]]):\n",
    "            return 'left_gun', 1\n",
    "        case _ if np.array_equal(current_tetromino_matrix, [[255, 255, 255], \n",
    "                                                            [0, 0, 255]]):\n",
    "            return 'left_gun', 2\n",
    "        case _ if np.array_equal(current_tetromino_matrix, [[0, 255], \n",
    "                                                            [0, 255],\n",
    "                                                            [255, 255]]):\n",
    "            return 'left_gun', 3\n",
    "        \n",
    "\n",
    "        case _ if np.array_equal(current_tetromino_matrix, [[255, 255], \n",
    "                                                            [255, 255]]):\n",
    "            return 'square', 0\n",
    "\n",
    " \n",
    "        case _ if np.array_equal(current_tetromino_matrix, [[0, 255, 0], \n",
    "                                                            [255, 255, 255]]):\n",
    "            return 'hat', 0 \n",
    "        case _ if np.array_equal(current_tetromino_matrix, [[255, 0], \n",
    "                                                            [255, 255], \n",
    "                                                            [255, 0]]):\n",
    "            return 'hat', 1\n",
    "        case _ if np.array_equal(current_tetromino_matrix, [[255, 255, 255], \n",
    "                                                            [0, 255, 0]]):\n",
    "            return 'hat', 2\n",
    "        case _ if np.array_equal(current_tetromino_matrix, [[0, 255], \n",
    "                                                            [255, 255], \n",
    "                                                            [0, 255]]):\n",
    "            return 'hat', 3\n",
    "    \n",
    "        case _ if np.array_equal(current_tetromino_matrix, [[255, 255, 255, 255]]):\n",
    "            return 'long', 0\n",
    "        case _ if np.array_equal(current_tetromino_matrix, [[255], \n",
    "                                                            [255], \n",
    "                                                            [255], \n",
    "                                                            [255]]):\n",
    "            return 'long', 1\n",
    "\n",
    "    "
   ]
  },
  {
   "cell_type": "code",
   "execution_count": 20,
   "id": "14772648",
   "metadata": {},
   "outputs": [],
   "source": [
    "def get_tetromino_final_position(x_game_board_matrix:np.ndarray, y_game_board_matrix:np.ndarray)->np.ndarray:\n",
    "\n",
    "    matrix_difference = y_game_board_matrix[4:, :] - x_game_board_matrix[4:, :]\n",
    "    \n",
    "    start_column = get_start_column(matrix_difference)\n",
    "\n",
    "    current_tetromino_matrix = get_tetromino_from_difference(matrix_difference)\n",
    "\n",
    "    name, rotation = get_tetromino_name_and_rotation(current_tetromino_matrix)\n",
    "\n",
    "    return name, rotation, start_column\n",
    "\n"
   ]
  },
  {
   "cell_type": "code",
   "execution_count": 21,
   "id": "c29949d2",
   "metadata": {},
   "outputs": [],
   "source": [
    "def integrate_tetromino_in_board(tetromino_name, \n",
    "                                 game_board_matrix,\n",
    "                                 is_current=True):\n",
    "    match tetromino_name:\n",
    "        case 'long':\n",
    "            if is_current:\n",
    "                game_board_matrix[0, 0] = 255\n",
    "                game_board_matrix[0, 1] = 255\n",
    "                game_board_matrix[0, 2] = 255\n",
    "                game_board_matrix[0, 3] = 255\n",
    "            else:\n",
    "                game_board_matrix[0, -1] = 255\n",
    "                game_board_matrix[0, -2] = 255\n",
    "                game_board_matrix[0, -3] = 255\n",
    "                game_board_matrix[0, -4] = 255                   \n",
    "        case 'right_gun':\n",
    "            if is_current:\n",
    "                game_board_matrix[4, 0] = 255\n",
    "                game_board_matrix[4, 1] = 255\n",
    "                game_board_matrix[4, 2] = 255\n",
    "                game_board_matrix[3, 2] = 255\n",
    "            else:\n",
    "                game_board_matrix[4, -1] = 255\n",
    "                game_board_matrix[4, -2] = 255\n",
    "                game_board_matrix[4, -3] = 255\n",
    "                game_board_matrix[3, -1] = 255                    \n",
    "        case 'square':\n",
    "            if is_current:\n",
    "                game_board_matrix[6, 0] = 255\n",
    "                game_board_matrix[6, 1] = 255\n",
    "                game_board_matrix[7, 0] = 255\n",
    "                game_board_matrix[7, 1] = 255\n",
    "            else:\n",
    "                game_board_matrix[6, -1] = 255\n",
    "                game_board_matrix[6, -2] = 255\n",
    "                game_board_matrix[7, -1] = 255\n",
    "                game_board_matrix[7, -2] = 255\n",
    "        case 'left_gun':\n",
    "            if is_current:\n",
    "                game_board_matrix[10, 0] = 255\n",
    "                game_board_matrix[10, 1] = 255\n",
    "                game_board_matrix[10, 2] = 255\n",
    "                game_board_matrix[9, 0] = 255\n",
    "            else:\n",
    "                game_board_matrix[10, -1] = 255\n",
    "                game_board_matrix[10, -2] = 255\n",
    "                game_board_matrix[10, -3] = 255\n",
    "                game_board_matrix[9, -3] = 255\n",
    "        case 'left_snake':\n",
    "            if is_current:\n",
    "                game_board_matrix[12, 0] = 255\n",
    "                game_board_matrix[12, 1] = 255\n",
    "                game_board_matrix[13, 1] = 255\n",
    "                game_board_matrix[13, 2] = 255   \n",
    "            else:\n",
    "                game_board_matrix[12, -3] = 255\n",
    "                game_board_matrix[12, -2] = 255\n",
    "                game_board_matrix[13, -2] = 255\n",
    "                game_board_matrix[13, -1] = 255\n",
    "        case 'hat':\n",
    "            if is_current:\n",
    "                game_board_matrix[15, 0] = 255\n",
    "                game_board_matrix[15, 1] = 255\n",
    "                game_board_matrix[15, 2] = 255\n",
    "                game_board_matrix[14, 1] = 255   \n",
    "            else:\n",
    "                game_board_matrix[15, -1] = 255\n",
    "                game_board_matrix[15, -2] = 255\n",
    "                game_board_matrix[15, -3] = 255\n",
    "                game_board_matrix[14, -2] = 255  \n",
    "        case 'right_snake':\n",
    "            if is_current:\n",
    "                game_board_matrix[19, 0] = 255\n",
    "                game_board_matrix[19, 1] = 255\n",
    "                game_board_matrix[18, 1] = 255\n",
    "                game_board_matrix[18, 2] = 255\n",
    "            else :\n",
    "                game_board_matrix[18, -1] = 255\n",
    "                game_board_matrix[18, -2] = 255\n",
    "                game_board_matrix[19, -2] = 255\n",
    "                game_board_matrix[19, -3] = 255\n",
    "    return game_board_matrix"
   ]
  },
  {
   "cell_type": "code",
   "execution_count": 22,
   "id": "6c4ebde7",
   "metadata": {},
   "outputs": [],
   "source": [
    "def dataframe_to_training_data(folder, dataframe, threshold_intensity=70, threshold_header=66):\n",
    "\n",
    "    max_id_pair = np.max(dataframe['id_pair'])\n",
    "\n",
    "    os.mkdir(f'training_data//X_{folder}')\n",
    "\n",
    "    training_dataframe = pd.DataFrame([], columns=('name', 'path', 'column', 'rotation'))\n",
    "\n",
    "    for id_pair in np.arange(1, max_id_pair+1):\n",
    "        \n",
    "        x_image_path = dataframe[np.logical_and(dataframe['id_pair']==id_pair, dataframe['x_y']=='x')]\n",
    "        y_image_path = dataframe[np.logical_and(dataframe['id_pair']==id_pair, dataframe['x_y']=='y')]\n",
    "        #print(x_image_path)\n",
    "        #print(y_image_path)\n",
    "        \n",
    "        x_image = cv2.imread(np.squeeze(x_image_path['image_path']))\n",
    "        x_game_board_matrix = transform_image_into_matrix(x_image, threshold_intensity=threshold_intensity, threshold_header=threshold_header)\n",
    "        #plt.imshow(x_game_board_matrix)\n",
    "        #plt.show()\n",
    "\n",
    "        y_image = cv2.imread(np.squeeze(y_image_path['image_path']))\n",
    "        y_game_board_matrix = transform_image_into_matrix(y_image, threshold_intensity=threshold_intensity, threshold_header=threshold_header)\n",
    "        #plt.imshow(y_game_board_matrix)\n",
    "        #plt.show()\n",
    "        try : \n",
    "            name, rotation, column = get_tetromino_final_position(x_game_board_matrix, y_game_board_matrix)\n",
    "            #print(f'name : {name}')\n",
    "            #print(f'rotation : {rotation}')\n",
    "            #print(f'column : {column}')\n",
    "\n",
    "            final_matrix = np.zeros((20, 22))\n",
    "\n",
    "            final_matrix[4:, 6:-6] = x_game_board_matrix[4:, :]\n",
    "\n",
    "            final_matrix_current = integrate_tetromino_in_board(name,\n",
    "                                                                final_matrix,\n",
    "                                                                is_current=True)\n",
    "            \n",
    "            next_tetromino_matrix = transform_next_tetromino_to_matrix(x_image, threshold_intensity=threshold_intensity)\n",
    "            next_tetromino_name = detect_tetromino(next_tetromino_matrix)\n",
    "\n",
    "            final_matrix_current_next = integrate_tetromino_in_board(next_tetromino_name,\n",
    "                                                                final_matrix_current,\n",
    "                                                                is_current=False)\n",
    "            \n",
    "            new_path = f'X_{folder}//{id_pair}_{name}.png'\n",
    "\n",
    "            training_dataframe = pd.concat([training_dataframe, \n",
    "                                            pd.DataFrame([[name,\n",
    "                                                        new_path,\n",
    "                                                        column,\n",
    "                                                        rotation\n",
    "                                                            ]], columns=('name', 'path', 'column', 'rotation'))])\n",
    "\n",
    "            #print(final_matrix_current_next)\n",
    "\n",
    "            cv2.imwrite(f'training_data//{new_path}', final_matrix_current_next)\n",
    "        except:\n",
    "            pass\n",
    "        \n",
    "\n",
    "    training_dataframe.to_csv(f'training_data//y_{folder}_dataframe.csv', index=False)"
   ]
  },
  {
   "cell_type": "code",
   "execution_count": 962,
   "id": "47226250",
   "metadata": {},
   "outputs": [],
   "source": [
    "def transform_next_tetromino_to_matrix(board_game_image:np.ndarray, threshold_intensity=70)->np.ndarray:\n",
    "    \"\"\" \n",
    "    Transform game image of tetris into the next tetromino with a 5x2 matrix\n",
    "\n",
    "    Args:\n",
    "        image(np.ndarray): image of the board game\n",
    "\n",
    "    Returns:\n",
    "        np.ndarray: matrix 5x2 of the next tetromino\n",
    "    \"\"\"\n",
    "\n",
    "    game_board_next_tetromino = board_game_image[6:73, 160:, :]\n",
    "  \n",
    "    resize_image = cv2.resize(game_board_next_tetromino, (5, 2), interpolation = cv2.INTER_AREA)\n",
    "\n",
    "    resize_image_sum = np.sum(resize_image, axis=-1)\n",
    "\n",
    "    thresh_resize_image = np.where(resize_image_sum>threshold_intensity, 255, 0)\n",
    "    #plt.imshow(thresh_resize_image)\n",
    "    #plt.show()\n",
    "\n",
    "    return thresh_resize_image"
   ]
  },
  {
   "cell_type": "markdown",
   "id": "3c33bff1",
   "metadata": {},
   "source": [
    "# Main"
   ]
  },
  {
   "cell_type": "code",
   "execution_count": 30,
   "id": "188096e7",
   "metadata": {},
   "outputs": [],
   "source": [
    "folder= 92"
   ]
  },
  {
   "cell_type": "code",
   "execution_count": 31,
   "id": "89c2888f",
   "metadata": {},
   "outputs": [
    {
     "data": {
      "text/plain": [
       "92"
      ]
     },
     "execution_count": 31,
     "metadata": {},
     "output_type": "execute_result"
    }
   ],
   "source": [
    "folder"
   ]
  },
  {
   "cell_type": "code",
   "execution_count": 1085,
   "id": "8a9930aa",
   "metadata": {},
   "outputs": [
    {
     "name": "stdout",
     "output_type": "stream",
     "text": [
      "206\n"
     ]
    }
   ],
   "source": [
    "file_name = 'video_24_7_droite.mp4'\n",
    "folder +=1 \n",
    "print(folder)\n",
    "outpout_folder_name = f'data_{folder}'"
   ]
  },
  {
   "cell_type": "code",
   "execution_count": 1086,
   "id": "83497f44",
   "metadata": {},
   "outputs": [],
   "source": [
    "data = video_to_images(file_name, outpout_folder_name)"
   ]
  },
  {
   "cell_type": "code",
   "execution_count": 1087,
   "id": "6c9ab461",
   "metadata": {},
   "outputs": [
    {
     "data": {
      "image/png": "[encoded data removed]",
      "text/plain": [
       "<Figure size 640x480 with 1 Axes>"
      ]
     },
     "metadata": {},
     "output_type": "display_data"
    }
   ],
   "source": [
    "x_image = cv2.imread(f'data_{folder}/frame2.jpg')\n",
    "plt.imshow(x_image[6:73, 160:, :])\n",
    "plt.show()"
   ]
  },
  {
   "cell_type": "code",
   "execution_count": 1088,
   "id": "cdeb5909",
   "metadata": {},
   "outputs": [
    {
     "data": {
      "image/png": "[encoded data removed]",
      "text/plain": [
       "<Figure size 640x480 with 1 Axes>"
      ]
     },
     "metadata": {},
     "output_type": "display_data"
    }
   ],
   "source": [
    "x_image = cv2.imread(f'data_{folder}/frame0.jpg')\n",
    "plt.imshow(x_image[99:, :, :])\n",
    "plt.show()"
   ]
  },
  {
   "cell_type": "code",
   "execution_count": 1089,
   "id": "c767019e",
   "metadata": {},
   "outputs": [],
   "source": [
    "dataframe = create_current_tetromino_dataframe(data, threshold_header=99)"
   ]
  },
  {
   "cell_type": "code",
   "execution_count": 1090,
   "id": "8da3c3a4",
   "metadata": {},
   "outputs": [
    {
     "data": {
      "text/plain": [
       "(718, 3)"
      ]
     },
     "execution_count": 1090,
     "metadata": {},
     "output_type": "execute_result"
    }
   ],
   "source": [
    "dataframe.shape"
   ]
  },
  {
   "cell_type": "code",
   "execution_count": 1091,
   "id": "810f8bc2",
   "metadata": {},
   "outputs": [],
   "source": [
    "dataframe_to_training_data(folder, dataframe, threshold_header=99)"
   ]
  },
  {
   "cell_type": "code",
   "execution_count": null,
   "id": "8621f25f",
   "metadata": {},
   "outputs": [],
   "source": []
  }
 ],
 "metadata": {
  "kernelspec": {
   "display_name": "Python 3",
   "language": "python",
   "name": "python3"
  },
  "language_info": {
   "codemirror_mode": {
    "name": "ipython",
    "version": 3
   },
   "file_extension": ".py",
   "mimetype": "text/x-python",
   "name": "python",
   "nbconvert_exporter": "python",
   "pygments_lexer": "ipython3",
   "version": "3.11.6"
  }
 },
 "nbformat": 4,
 "nbformat_minor": 5
}
